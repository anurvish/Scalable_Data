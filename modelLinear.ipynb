{
  "nbformat": 4,
  "nbformat_minor": 0,
  "metadata": {
    "colab": {
      "name": "modelLinear.ipynb",
      "provenance": [],
      "collapsed_sections": [],
      "authorship_tag": "ABX9TyMApFlbTVIOtXIdFBYbY7Vd",
      "include_colab_link": true
    },
    "kernelspec": {
      "name": "python3",
      "display_name": "Python 3"
    },
    "language_info": {
      "name": "python"
    }
  },
  "cells": [
    {
      "cell_type": "markdown",
      "metadata": {
        "id": "view-in-github",
        "colab_type": "text"
      },
      "source": [
        "<a href=\"https://colab.research.google.com/github/anurvish/Scalable_Data/blob/main/modelLinear.ipynb\" target=\"_parent\"><img src=\"https://colab.research.google.com/assets/colab-badge.svg\" alt=\"Open In Colab\"/></a>"
      ]
    },
    {
      "cell_type": "code",
      "metadata": {
        "id": "wiYkvZSUMlG-",
        "colab": {
          "base_uri": "https://localhost:8080/"
        },
        "outputId": "79607d9d-99a6-4bd6-f117-ee360b407d3a"
      },
      "source": [
        "from google.colab import drive\n",
        "drive.mount('/content/drive')"
      ],
      "execution_count": 2,
      "outputs": [
        {
          "output_type": "stream",
          "name": "stdout",
          "text": [
            "Mounted at /content/drive\n"
          ]
        }
      ]
    },
    {
      "cell_type": "code",
      "metadata": {
        "id": "tK1j8K_MNoUz"
      },
      "source": [
        "import pandas as pd\n",
        "import numpy as np\n",
        "df = pd.read_csv(\"/content/drive/MyDrive/ML/GroupProject/final_data.csv\", )\n",
        "df.head()\n",
        "df = df.replace(np.NaN, 0)\n",
        "df"
      ],
      "execution_count": null,
      "outputs": []
    },
    {
      "cell_type": "code",
      "metadata": {
        "id": "BNHjWktnWp_g"
      },
      "source": [
        "X = df.iloc[:, 1:]\n",
        "X"
      ],
      "execution_count": null,
      "outputs": []
    },
    {
      "cell_type": "code",
      "metadata": {
        "id": "oYbOx2XdQZ5-"
      },
      "source": [
        "y = df.iloc[:, 0]\n",
        "y"
      ],
      "execution_count": null,
      "outputs": []
    },
    {
      "cell_type": "code",
      "metadata": {
        "id": "GKhHq0qUZdZn"
      },
      "source": [
        "from sklearn.model_selection import train_test_split\n",
        "xtrain, xtest, ytrain, ytest = train_test_split(X, y, test_size=0.2)"
      ],
      "execution_count": 6,
      "outputs": []
    },
    {
      "cell_type": "code",
      "metadata": {
        "id": "dF7DS3_oZGvU",
        "colab": {
          "base_uri": "https://localhost:8080/"
        },
        "outputId": "04532f08-7798-4eac-bd00-42309bd0160c"
      },
      "source": [
        "from sklearn.linear_model import LinearRegression\n",
        "from sklearn.metrics import mean_squared_error, mean_absolute_error\n",
        "import statsmodels.api as sm\n",
        "import math\n",
        "model = LinearRegression()\n",
        "model.fit(xtrain, ytrain)\n",
        "testPred = model.predict(xtest)\n",
        "trainPred = model.predict(xtrain)\n",
        "xtest_addC = sm.add_constant(xtest)\n",
        "result_test = sm.OLS(ytest, xtest_addC.astype(float)).fit()\n",
        "xtrain_addC = sm.add_constant(xtrain)\n",
        "result_train = sm.OLS(ytrain, xtrain_addC.astype(float)).fit()\n",
        "print(f'Coefficient: {model.coef_}')\n",
        "print(f'Intercept: {model.intercept_}')\n",
        "print(f'Test R_Square: {result_test.rsquared} & Adjusted R Square {result_test.rsquared_adj}')\n",
        "print(f'Train R_Square: {result_train.rsquared} & Adjusted R Square {result_train.rsquared_adj}')\n",
        "print(f'Test Mean squared error: {mean_squared_error(ytest, testPred)} & Mean Absulute error: {mean_absolute_error(ytest, testPred)}')\n",
        "print(f'Train Mean squared error: {mean_squared_error(ytrain, trainPred)} & Mean Absulute error: {mean_absolute_error(ytrain, trainPred)}')\n",
        "#RMSC\n",
        "MSE_test = np.square(np.subtract(ytest,testPred)).mean()\n",
        "MSE_train = np.square(np.subtract(ytrain,trainPred)).mean()\n",
        "print(f'Test RMSC :{MSE_test}')\n",
        "print(f'Train RMSC: {MSE_train}')\n",
        "print(\"\\n\\n\")"
      ],
      "execution_count": 14,
      "outputs": [
        {
          "output_type": "stream",
          "name": "stdout",
          "text": [
            "Coefficient: [-2.65124648e-07 -3.42277107e+01 -1.91993725e-06 -7.60255951e-04\n",
            " -6.91241998e+00 -5.07955903e+02  1.27743935e+02 -6.09944761e+02\n",
            "  2.23963177e+02 -4.23457792e+03  5.66518099e+02 -1.58713939e+03\n",
            " -3.63459890e+03 -7.71221799e+01  9.06762615e+01 -1.37460980e+03\n",
            " -1.39587313e+02  1.62099129e+02  2.87911951e+01 -1.85008418e+02\n",
            " -3.51353582e+03  1.27758792e+02  7.65591519e+01  7.42624208e+02\n",
            " -2.80899296e+00 -2.37107776e+01 -1.82671820e+01  5.25810655e+01\n",
            " -5.07220014e+01 -2.79428889e-08 -1.64081120e+01  4.23264769e+02\n",
            "  1.06464316e+02 -3.07003320e+02 -1.43396174e+02  1.81534006e-08\n",
            " -3.43935189e+02 -2.78545956e+02  4.03622580e+01  1.23568905e+02\n",
            "  7.58024197e+01 -1.95514076e-08  2.39733580e+02 -1.45424286e+01\n",
            " -1.84351285e+02 -1.66156661e+02  1.11039084e+02  1.91488867e+02\n",
            " -4.79799992e+01 -1.03009275e+01 -4.12774175e+01 -5.60887304e+00\n",
            "  2.11823717e+02 -3.24753946e+02 -1.59816522e+02 -7.15914029e+00\n",
            "  1.52799276e+02  1.46182772e+02  3.62247393e+02 -7.25341143e+02\n",
            " -6.41117099e+01 -1.34114164e+01 -1.02585825e+02 -7.19989213e+01\n",
            " -1.31511654e+02  2.24846943e+02 -8.12494771e+01 -1.04311490e+01\n",
            " -3.45241076e+02 -3.30386286e+02 -1.60784513e+02  1.42691672e+03\n",
            "  5.90504847e+02]\n",
            "Intercept: 7573.322323289805\n",
            "Test R_Square: 0.7434067724507027 & Adjusted R Square 0.73360281513986\n",
            "Train R_Square: 0.761722625855637 & Adjusted R Square 0.7593555056510303\n",
            "Test Mean squared error: 1395364.8753426492 & Mean Absulute error: 899.5054162606999\n",
            "Train Mean squared error: 1268736.8742916607 & Mean Absulute error: 877.3845238859344\n",
            "Test RMSC :1395364.8753426485\n",
            "Train RMSC: 1268736.8742916568\n",
            "\n",
            "\n",
            "\n"
          ]
        }
      ]
    },
    {
      "cell_type": "code",
      "metadata": {
        "colab": {
          "base_uri": "https://localhost:8080/"
        },
        "id": "EN8t9nG0Pug8",
        "outputId": "1739de47-ab4b-4e11-de40-4ef74e402579"
      },
      "source": [
        "from sklearn.model_selection import  cross_val_score\n",
        "score = cross_val_score(model, xtrain, ytrain, cv=5, scoring=\"neg_mean_squared_error\")\n",
        "print(f'Mean score is {score.mean()} and standard deviation is {score.std()}')"
      ],
      "execution_count": 17,
      "outputs": [
        {
          "output_type": "stream",
          "name": "stdout",
          "text": [
            "Mean score is -1301381.0637429834 and standard deviation is 57852.61370183125\n"
          ]
        }
      ]
    }
  ]
}