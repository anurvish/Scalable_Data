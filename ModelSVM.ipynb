{
  "nbformat": 4,
  "nbformat_minor": 0,
  "metadata": {
    "colab": {
      "name": "ModelSVM.ipynb",
      "provenance": [],
      "collapsed_sections": [],
      "authorship_tag": "ABX9TyMbae0M1lUKxY0BrFGP9MFf",
      "include_colab_link": true
    },
    "kernelspec": {
      "name": "python3",
      "display_name": "Python 3"
    },
    "language_info": {
      "name": "python"
    }
  },
  "cells": [
    {
      "cell_type": "markdown",
      "metadata": {
        "id": "view-in-github",
        "colab_type": "text"
      },
      "source": [
        "<a href=\"https://colab.research.google.com/github/anurvish/Scalable_Data/blob/main/ModelSVM.ipynb\" target=\"_parent\"><img src=\"https://colab.research.google.com/assets/colab-badge.svg\" alt=\"Open In Colab\"/></a>"
      ]
    },
    {
      "cell_type": "code",
      "metadata": {
        "colab": {
          "base_uri": "https://localhost:8080/"
        },
        "id": "21dJGEv8RFIc",
        "outputId": "57b5a52a-67b9-4927-c2b7-69048b361b2f"
      },
      "source": [
        "from google.colab import drive\n",
        "drive.mount('/content/drive')"
      ],
      "execution_count": 19,
      "outputs": [
        {
          "output_type": "stream",
          "name": "stdout",
          "text": [
            "Drive already mounted at /content/drive; to attempt to forcibly remount, call drive.mount(\"/content/drive\", force_remount=True).\n"
          ]
        }
      ]
    },
    {
      "cell_type": "code",
      "metadata": {
        "id": "329aaYKTTew4"
      },
      "source": [
        "import pandas as pd\n",
        "import numpy as np\n",
        "df = pd.read_csv(\"/content/drive/MyDrive/ML/GroupProject/final_data.csv\", )\n",
        "df.head()\n",
        "df = df.replace(np.NaN, 0)\n",
        "X = df.iloc[:, 2:]\n",
        "y = df.iloc[:, 1]"
      ],
      "execution_count": 20,
      "outputs": []
    },
    {
      "cell_type": "code",
      "metadata": {
        "id": "WCkMwSolTuDb"
      },
      "source": [
        "from sklearn.model_selection import train_test_split\n",
        "xtrain, xtest, ytrain, ytest = train_test_split(X, y, test_size=0.2)"
      ],
      "execution_count": 21,
      "outputs": []
    },
    {
      "cell_type": "code",
      "metadata": {
        "id": "te6_Oy7NTYjk"
      },
      "source": [
        "from sklearn.svm import LinearSVC\n",
        "from sklearn.metrics import mean_squared_error, mean_absolute_error\n",
        "import statsmodels.api as sm\n",
        "import math\n",
        "C_para = [0.1, 1, 50, 100, 500, 1000]"
      ],
      "execution_count": 22,
      "outputs": []
    },
    {
      "cell_type": "code",
      "metadata": {
        "id": "-2Yl4uvwbvZP",
        "colab": {
          "base_uri": "https://localhost:8080/"
        },
        "outputId": "25f13666-3e29-4860-a4bb-ba6ca977d95d"
      },
      "source": [
        "model_list = [LinearSVC(C=C) for C in C_para]\n",
        "testPred_df = pd.DataFrame()\n",
        "trainPred_df = pd.DataFrame()\n",
        "for i,model in enumerate(model_list):\n",
        "    model.fit(xtrain,ytrain)\n",
        "    predCol = f'model_{i+1}'\n",
        "    testPred_df[predCol] = model.predict(xtest)\n",
        "    trainPred_df[predCol] = model.predict(xtrain) \n",
        "    xtest_addC = sm.add_constant(xtest)\n",
        "    result_test = sm.OLS(ytest, xtest_addC.astype(float)).fit()\n",
        "    xtrain_addC = sm.add_constant(xtrain)\n",
        "    result_train = sm.OLS(ytrain, xtrain_addC.astype(float)).fit()\n",
        "    print(f'Model being processed {i}')\n",
        "    print(f'Coefficient: {model.coef_}')\n",
        "    print(f'Intercept: {model.intercept_}')\n",
        "    print(f'Test R_Square: {result_test.rsquared} & Adjusted R Square {result_test.rsquared_adj}')\n",
        "    print(f'Test R_Square: {result_train.rsquared} & Adjusted R Square {result_train.rsquared_adj}')\n",
        "    print(f'Test Mean squared error: {mean_squared_error(ytest, testPred_df[predCol])} & Mean Absulute error: {mean_absolute_error(ytest, testPred_df[predCol])}')\n",
        "    print(f'Train Mean squared error: {mean_squared_error(ytrain, trainPred_df[predCol])} &  Mean Absulute error: {mean_absolute_error(ytrain, trainPred_df[predCol])}')\n",
        "    #RMSC\n",
        "    MSE_test = np.square(np.subtract(ytest,testPred_df[predCol])).mean()\n",
        "    MSE_train = np.square(np.subtract(ytrain,trainPred_df[predCol])).mean()\n",
        "    print(f'Test RMSC :{MSE_test}')\n",
        "    print(f'Train RMSC: {MSE_train}')\n",
        "    print('\\n\\n')\n"
      ],
      "execution_count": null,
      "outputs": [
        {
          "metadata": {
            "tags": null
          },
          "name": "stderr",
          "output_type": "stream",
          "text": [
            "/usr/local/lib/python3.7/dist-packages/sklearn/svm/_base.py:1208: ConvergenceWarning: Liblinear failed to converge, increase the number of iterations.\n",
            "  ConvergenceWarning,\n"
          ]
        },
        {
          "metadata": {
            "tags": null
          },
          "name": "stdout",
          "output_type": "stream",
          "text": [
            "Model being processed 0\n",
            "Coefficient: [[ 0.00000000e+00 -1.59600666e-05 -2.55836126e-07 ... -8.27180613e-25\n",
            "   0.00000000e+00 -1.27815655e-05]\n",
            " [-3.56539762e-08 -8.32080570e-06 -4.17173115e-05 ...  0.00000000e+00\n",
            "   0.00000000e+00 -5.34754271e-06]\n",
            " [ 0.00000000e+00 -1.17562693e-06 -4.19037973e-05 ...  1.03407636e-07\n",
            "   0.00000000e+00  1.03407636e-07]\n",
            " ...\n",
            " [ 0.00000000e+00  5.59494508e-09 -1.69605170e-03 ... -2.14276413e-11\n",
            "   0.00000000e+00 -2.14276413e-11]\n",
            " [ 0.00000000e+00 -3.22171473e-07 -1.69655358e-03 ...  0.00000000e+00\n",
            "   0.00000000e+00  0.00000000e+00]\n",
            " [ 0.00000000e+00 -3.22171686e-07 -1.69653750e-03 ...  0.00000000e+00\n",
            "   0.00000000e+00  0.00000000e+00]]\n",
            "Intercept: [-1.52147201e-04 -1.32719012e-04 -1.23903550e-04 ... -8.48261413e-05\n",
            " -8.48250298e-05 -8.48251213e-05]\n",
            "Test R_Square: 0.6297368398680996 & Adjusted R Square 0.615842830567561\n",
            "Test R_Square: 0.5730601361011495 & Adjusted R Square 0.5689569178032269\n",
            "Test Mean squared error: 3.5984119589866708e+16 & Mean Absulute error: 81511550.15028535\n",
            "Train Mean squared error: 3.059408829541025e+16 &  Mean Absulute error: 76455186.85088833\n",
            "Test RMSC :4.696857596204822e+16\n",
            "Train RMSC: 3.5887549133141668e+16\n",
            "\n",
            "\n",
            "\n"
          ]
        },
        {
          "metadata": {
            "tags": null
          },
          "name": "stderr",
          "output_type": "stream",
          "text": [
            "/usr/local/lib/python3.7/dist-packages/sklearn/svm/_base.py:1208: ConvergenceWarning: Liblinear failed to converge, increase the number of iterations.\n",
            "  ConvergenceWarning,\n"
          ]
        },
        {
          "metadata": {
            "tags": null
          },
          "name": "stdout",
          "output_type": "stream",
          "text": [
            "Model being processed 1\n",
            "Coefficient: [[ 0.00000000e+00 -9.60444225e-06 -5.00393883e-06 ...  0.00000000e+00\n",
            "   0.00000000e+00 -1.22760968e-05]\n",
            " [-3.69772261e-08 -1.18685161e-05 -8.40923707e-05 ...  4.18790477e-26\n",
            "   0.00000000e+00 -4.75843600e-06]\n",
            " [ 0.00000000e+00 -1.12818738e-06 -7.29872611e-05 ...  1.54520370e-07\n",
            "   0.00000000e+00  1.54520370e-07]\n",
            " ...\n",
            " [ 0.00000000e+00  2.41660955e-08 -1.69671567e-03 ... -2.32074362e-11\n",
            "   0.00000000e+00 -2.32074362e-11]\n",
            " [ 0.00000000e+00 -3.21912679e-07 -1.69719863e-03 ...  0.00000000e+00\n",
            "   0.00000000e+00  0.00000000e+00]\n",
            " [ 0.00000000e+00 -3.21912825e-07 -1.69718690e-03 ...  0.00000000e+00\n",
            "   0.00000000e+00  0.00000000e+00]]\n",
            "Intercept: [-1.51672337e-04 -1.32336110e-04 -1.26910090e-04 ... -8.48585036e-05\n",
            " -8.48574172e-05 -8.48575207e-05]\n",
            "Test R_Square: 0.6297368398680996 & Adjusted R Square 0.615842830567561\n",
            "Test R_Square: 0.5730601361011495 & Adjusted R Square 0.5689569178032269\n",
            "Test Mean squared error: 3.5785535564669604e+16 & Mean Absulute error: 80450591.87444516\n",
            "Train Mean squared error: 3.0405630420540504e+16 &  Mean Absulute error: 75409673.29965101\n",
            "Test RMSC :4.677136124832818e+16\n",
            "Train RMSC: 3.5707820070179976e+16\n",
            "\n",
            "\n",
            "\n"
          ]
        },
        {
          "metadata": {
            "tags": null
          },
          "name": "stderr",
          "output_type": "stream",
          "text": [
            "/usr/local/lib/python3.7/dist-packages/sklearn/svm/_base.py:1208: ConvergenceWarning: Liblinear failed to converge, increase the number of iterations.\n",
            "  ConvergenceWarning,\n"
          ]
        },
        {
          "metadata": {
            "tags": null
          },
          "name": "stdout",
          "output_type": "stream",
          "text": [
            "Model being processed 2\n",
            "Coefficient: [[ 0.00000000e+00 -4.73255853e-05 -1.03850744e-06 ... -3.10192730e-25\n",
            "   0.00000000e+00 -1.29259599e-05]\n",
            " [-3.55445212e-08 -2.26409640e-05 -5.67909780e-05 ...  0.00000000e+00\n",
            "   0.00000000e+00 -5.43086731e-06]\n",
            " [ 0.00000000e+00 -1.17930049e-06 -1.62904715e-05 ...  1.68847916e-07\n",
            "   0.00000000e+00  1.68847916e-07]\n",
            " ...\n",
            " [ 0.00000000e+00  3.43245506e-09 -1.69678727e-03 ... -2.08839849e-11\n",
            "   0.00000000e+00 -2.08849726e-11]\n",
            " [ 0.00000000e+00 -3.23053427e-07 -1.69727151e-03 ...  0.00000000e+00\n",
            "   0.00000000e+00  0.00000000e+00]\n",
            " [ 0.00000000e+00  1.53645573e-07 -1.69726170e-03 ...  0.00000000e+00\n",
            "   0.00000000e+00  0.00000000e+00]]\n",
            "Intercept: [-1.51127882e-04 -1.31871383e-04 -1.27768559e-04 ... -8.48620314e-05\n",
            " -8.48609456e-05 -8.48610383e-05]\n",
            "Test R_Square: 0.6297368398680996 & Adjusted R Square 0.615842830567561\n",
            "Test R_Square: 0.5730601361011495 & Adjusted R Square 0.5689569178032269\n",
            "Test Mean squared error: 3.5963527850948704e+16 & Mean Absulute error: 80955531.80722892\n",
            "Train Mean squared error: 3.057878078175178e+16 &  Mean Absulute error: 75954653.43591371\n",
            "Test RMSC :4.701055600691102e+16\n",
            "Train RMSC: 3.592869236607908e+16\n",
            "\n",
            "\n",
            "\n"
          ]
        }
      ]
    },
    {
      "cell_type": "code",
      "metadata": {
        "id": "W3el7svBb4yn"
      },
      "source": [
        "from sklearn.model_selection import  cross_val_score\n",
        "#ploting the mean and standard daviation value for Lasso Regression\n",
        "LassoKfold = {\n",
        "'Score':[],\n",
        "'StandardDeviation':[],\n",
        "}\n",
        "for i, model in enumerate(model_list):\n",
        "    score = cross_val_score(model, xtrain, ytrain, cv=5, scoring=\"neg_mean_squared_error\")\n",
        "    LassoKfold['Score'].append(score.mean())\n",
        "    LassoKfold['StandardDeviation'].append(score.std())\n",
        "    print(f'For model_{i+1}  mean score is {score.mean()} and standard deviation is {score.std()}')\n",
        "\n",
        "print(LassoKfold)\n",
        "LassoKfold=pd.DataFrame(LassoKfold)"
      ],
      "execution_count": null,
      "outputs": []
    }
  ]
}