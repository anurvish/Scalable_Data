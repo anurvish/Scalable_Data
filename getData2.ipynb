{
  "nbformat": 4,
  "nbformat_minor": 0,
  "metadata": {
    "colab": {
      "name": "getData2.ipynb",
      "provenance": [],
      "collapsed_sections": [],
      "include_colab_link": true
    },
    "kernelspec": {
      "name": "python3",
      "display_name": "Python 3"
    },
    "language_info": {
      "name": "python"
    }
  },
  "cells": [
    {
      "cell_type": "markdown",
      "metadata": {
        "id": "view-in-github",
        "colab_type": "text"
      },
      "source": [
        "<a href=\"https://colab.research.google.com/github/anurvish/Scalable_Data/blob/main/getData2.ipynb\" target=\"_parent\"><img src=\"https://colab.research.google.com/assets/colab-badge.svg\" alt=\"Open In Colab\"/></a>"
      ]
    },
    {
      "cell_type": "code",
      "metadata": {
        "id": "9AZc55ytV6Si"
      },
      "source": [
        "import requests\n",
        "import locale\n",
        "import csv\n",
        "data_file = open('data_file.csv', 'w')\n",
        "csv_writer = csv.writer(data_file)\n",
        "url1 = 'https://api.themoviedb.org/3/discover/movie?api_key=308b04f2b1399d2700c3d6209623e241&include_all_movies=true&language=en&page='\n",
        "for x in range(500):\n",
        "  url = url1+str(x+1)\n",
        "  response = requests.get(url)\n",
        "  response_json = response.json()\n",
        "  print(response_json)\n",
        "  results = response_json['results']\n",
        "  if(x==0):\n",
        "    csv_writer.writerow(results[0].keys())\n",
        "  for result in results:\n",
        "    print(result.values())\n",
        "    csv_writer.writerow(result.values())\n",
        "data_file.close()\n"
      ],
      "execution_count": null,
      "outputs": []
    },
    {
      "cell_type": "code",
      "metadata": {
        "id": "1DtxmZYItZ8s"
      },
      "source": [
        "from google.colab import drive\n",
        "drive.mount('/content/drive')"
      ],
      "execution_count": null,
      "outputs": []
    },
    {
      "cell_type": "code",
      "metadata": {
        "colab": {
          "base_uri": "https://localhost:8080/"
        },
        "id": "kQxv26FmvWNv",
        "outputId": "3964956f-681d-49e0-c3e9-85592afcd5b2"
      },
      "source": [
        "data_file = open('data_genre.csv', 'w')\n",
        "csv_writer = csv.writer(data_file)\n",
        "genre = 'https://api.themoviedb.org/3/genre/movie/list?api_key=308b04f2b1399d2700c3d6209623e241&language=en-US'\n",
        "response = requests.get(genre)\n",
        "response_json = response.json()\n",
        "results = response_json['genres']\n",
        "csv_writer.writerow(results[0].keys())\n",
        "for result in results:\n",
        "  print(result)\n",
        "  csv_writer.writerow(result.values())\n",
        "data_file.close()"
      ],
      "execution_count": null,
      "outputs": [
        {
          "output_type": "stream",
          "name": "stdout",
          "text": [
            "{'id': 28, 'name': 'Action'}\n",
            "{'id': 12, 'name': 'Adventure'}\n",
            "{'id': 16, 'name': 'Animation'}\n",
            "{'id': 35, 'name': 'Comedy'}\n",
            "{'id': 80, 'name': 'Crime'}\n",
            "{'id': 99, 'name': 'Documentary'}\n",
            "{'id': 18, 'name': 'Drama'}\n",
            "{'id': 10751, 'name': 'Family'}\n",
            "{'id': 14, 'name': 'Fantasy'}\n",
            "{'id': 36, 'name': 'History'}\n",
            "{'id': 27, 'name': 'Horror'}\n",
            "{'id': 10402, 'name': 'Music'}\n",
            "{'id': 9648, 'name': 'Mystery'}\n",
            "{'id': 10749, 'name': 'Romance'}\n",
            "{'id': 878, 'name': 'Science Fiction'}\n",
            "{'id': 10770, 'name': 'TV Movie'}\n",
            "{'id': 53, 'name': 'Thriller'}\n",
            "{'id': 10752, 'name': 'War'}\n",
            "{'id': 37, 'name': 'Western'}\n"
          ]
        }
      ]
    }
  ]
}